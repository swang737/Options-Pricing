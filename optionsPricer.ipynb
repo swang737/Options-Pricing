{
 "cells": [
  {
   "cell_type": "code",
   "execution_count": 265,
   "id": "51d794f0-4d5c-4822-9d5d-4119ceef8873",
   "metadata": {},
   "outputs": [],
   "source": [
    "import numpy as np\n",
    "import pandas as pd\n",
    "from matplotlib.pyplot import subplots"
   ]
  },
  {
   "cell_type": "code",
   "execution_count": 267,
   "id": "6954cdda-79ad-407f-906f-7a85b73d0bf8",
   "metadata": {},
   "outputs": [],
   "source": [
    "class optionPricer:\n",
    "    # allowed stuff\n",
    "    types = {'put', 'call'}\n",
    "    styles = {'european'}\n",
    "    methods = {'euler', 'milstein'}\n",
    "    varReductionMethods = {'none', 'antithetic', 'importance', 'control'}\n",
    "    \n",
    "    def __init__(self, optionStyle, optionType, initialPrice, strike, std, r = 0.07, T = 1):\n",
    "        #checking to see if it calcualtable \n",
    "        if optionType not in self.types:\n",
    "            raise ValueError('type not allowed')\n",
    "        if optionStyle not in self.styles:\n",
    "            raise ValueError('style not allowed')\n",
    "\n",
    "        # setting attributes\n",
    "        self.optionType = optionType.lower()\n",
    "        self.optionStyle = optionStyle.lower()\n",
    "        self.initialPrice = initialPrice\n",
    "        self.strike = strike\n",
    "        self.std = std\n",
    "        self.r = r\n",
    "        self.T = T\n",
    "\n",
    "    def getPaths(self, method = 'euler', plot = False, varReduction = 'None', npaths = 1000, nt = 1000):\n",
    "        '''\n",
    "        gets all the stock paths that may be needed\n",
    "        can specify method and if you want it plotted\n",
    "        '''\n",
    "        if method.lower() not in self.methods:\n",
    "            raise ValueError('method not allowed')\n",
    "        if varReduction.lower() not in self.varReductionMethods:\n",
    "            raise ValueError('variance reduction method not allowed')\n",
    "        \n",
    "        dt = self.T/nt\n",
    "        paths = []\n",
    "\n",
    "        # antithetical variable variance reduction\n",
    "        if varReduction == 'antithetic':\n",
    "            pass\n",
    "\n",
    "        # no variance reduction applied\n",
    "        else:\n",
    "            for i in range(npaths):\n",
    "                S = np.zeros(nt + 1)\n",
    "                S[0] = self.initialPrice\n",
    "\n",
    "                for t in range(nt):\n",
    "                    change = np.random.normal(loc = 0, scale = 1)\n",
    "                    if method.lower() == 'euler':\n",
    "                        S[t+1] = S[t] + self.r * S[t] * dt + self.std * S[t] * np.sqrt(dt) * change\n",
    "                    if method.lower() == 'milstein':\n",
    "                        # i think the milstein formula in lec notes is incorrect...\n",
    "                        S[t+1] = S[t] + self.r * S[t] * dt + self.std * S[t] * np.sqrt(dt) * change + 0.5 * self.std**2 * dt * (change**2 - 1) * S[t]\n",
    "\n",
    "                paths.append(S)\n",
    "\n",
    "        if plot:\n",
    "            fig, ax = subplots(figsize = (16, 8))\n",
    "            for i in range(len(paths)):\n",
    "                ax.plot(paths[i])\n",
    "\n",
    "            ax.set_title(f'Paths generated using {method.capitalize()} Method')\n",
    "            ax.set_ylabel('Price')\n",
    "            ax.set_xlabel('Time')\n",
    "            ax.set_xlim(0, nt)\n",
    "            ax.axhline(self.initialPrice, color = 'k', ls = '--')\n",
    "\n",
    "        self.paths = np.array(paths)\n",
    "\n",
    "    def getPrice(self, varReduction = None, npaths = 1000, nt = 1000):\n",
    "        '''\n",
    "        prices the option --> GET PATHS FIRST then put it through this method\n",
    "        can enter a variance reduction technique\n",
    "        '''\n",
    "        # pricing european options\n",
    "        if self.optionStyle == 'european':\n",
    "            S_T = self.paths[:, -1] \n",
    "            if self.optionType == 'put':\n",
    "                payoffs = np.maximum(0, self.strike - S_T)\n",
    "            if self.optionType == 'call':\n",
    "                payoffs = np.maximum(0, S_T - self.strike)    \n",
    "            price = np.e ** (-self.r * self.T) * np.mean(payoffs)\n",
    "\n",
    "        return price\n",
    "        \n",
    "        "
   ]
  },
  {
   "cell_type": "code",
   "execution_count": 269,
   "id": "bd95903b-c9f0-4dab-85bc-f56cf3d396ae",
   "metadata": {},
   "outputs": [
    {
     "data": {
      "text/plain": [
       "6.807667358247195"
      ]
     },
     "execution_count": 269,
     "metadata": {},
     "output_type": "execute_result"
    }
   ],
   "source": [
    "europut = optionPricer('european', 'put', 100, 100, 0.25)\n",
    "europut.getPaths(method = 'euler');\n",
    "europut.getPrice()"
   ]
  },
  {
   "cell_type": "code",
   "execution_count": null,
   "id": "718748e9-8106-43e4-9f8e-17d034a0c732",
   "metadata": {},
   "outputs": [],
   "source": []
  },
  {
   "cell_type": "code",
   "execution_count": null,
   "id": "39a10f86-78cc-4afc-bccf-26cbd84da6e6",
   "metadata": {},
   "outputs": [],
   "source": []
  }
 ],
 "metadata": {
  "kernelspec": {
   "display_name": "Python 3 (ipykernel)",
   "language": "python",
   "name": "python3"
  },
  "language_info": {
   "codemirror_mode": {
    "name": "ipython",
    "version": 3
   },
   "file_extension": ".py",
   "mimetype": "text/x-python",
   "name": "python",
   "nbconvert_exporter": "python",
   "pygments_lexer": "ipython3",
   "version": "3.12.7"
  }
 },
 "nbformat": 4,
 "nbformat_minor": 5
}
